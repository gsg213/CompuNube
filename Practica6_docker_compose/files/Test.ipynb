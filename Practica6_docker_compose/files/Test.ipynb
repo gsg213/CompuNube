{
 "cells": [
  {
   "cell_type": "code",
   "execution_count": 32,
   "metadata": {
    "collapsed": true
   },
   "outputs": [],
   "source": [
    "import tensorflow as tf"
   ]
  },
  {
   "cell_type": "code",
   "execution_count": 33,
   "metadata": {
    "collapsed": false
   },
   "outputs": [
    {
     "data": {
      "text/plain": [
       "'0.9.0'"
      ]
     },
     "execution_count": 33,
     "metadata": {},
     "output_type": "execute_result"
    }
   ],
   "source": [
    "tf.__version__"
   ]
  },
  {
   "cell_type": "code",
   "execution_count": 34,
   "metadata": {
    "collapsed": false
   },
   "outputs": [],
   "source": [
    "writer = tf.train.SummaryWriter('/tmp/tensorflow_logs')\n",
    "\n",
    "accuracy = [0.1, 0.4, 0.6, 0.8, 0.9, 0.95] # fake accuracy values\n",
    "acc_var = tf.Variable(0, dtype=tf.float32) # variable that holds accuracy\n",
    "acc_summ = tf.scalar_summary('Accuracy', acc_var) # summary to write to TensorBoard"
   ]
  },
  {
   "cell_type": "code",
   "execution_count": 35,
   "metadata": {
    "collapsed": false
   },
   "outputs": [],
   "source": [
    "sess = tf.Session()\n",
    "for step, acc in enumerate(accuracy):\n",
    "    sess.run(acc_var.assign(acc)) # update accuracy variable\n",
    "    \n",
    "    writer.add_summary(sess.run(acc_summ), step) # add summary\n",
    "\n",
    "writer.flush() # make sure everything is written to disk\n",
    "writer.close() # not really needed, but good habit"
   ]
  }
 ],
 "metadata": {
  "kernelspec": {
   "display_name": "Python 2",
   "language": "python",
   "name": "python2"
  },
  "language_info": {
   "codemirror_mode": {
    "name": "ipython",
    "version": 2
   },
   "file_extension": ".py",
   "mimetype": "text/x-python",
   "name": "python",
   "nbconvert_exporter": "python",
   "pygments_lexer": "ipython2",
   "version": "2.7.6"
  }
 },
 "nbformat": 4,
 "nbformat_minor": 0
}
